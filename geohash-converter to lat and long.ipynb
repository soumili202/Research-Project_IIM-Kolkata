{
 "cells": [
  {
   "cell_type": "code",
   "execution_count": 1,
   "id": "cf2e07fa",
   "metadata": {},
   "outputs": [
    {
     "name": "stdout",
     "output_type": "stream",
     "text": [
      "Collecting pygeohashNote: you may need to restart the kernel to use updated packages.\n",
      "\n",
      "  Downloading pygeohash-1.2.0.tar.gz (5.0 kB)\n",
      "Building wheels for collected packages: pygeohash\n",
      "  Building wheel for pygeohash (setup.py): started\n",
      "  Building wheel for pygeohash (setup.py): finished with status 'done'\n",
      "  Created wheel for pygeohash: filename=pygeohash-1.2.0-py2.py3-none-any.whl size=6167 sha256=2a7189099e39d97b9e5ea201cdf0e407c93ac2949dceaaf2dc04b755f711d7c6\n",
      "  Stored in directory: c:\\users\\soumili mukherjee\\appdata\\local\\pip\\cache\\wheels\\6e\\e7\\a2\\4ea56930e1cc3ece852306b842f9ca71e0cd9482cb8b848e27\n",
      "Successfully built pygeohash\n",
      "Installing collected packages: pygeohash\n",
      "Successfully installed pygeohash-1.2.0\n"
     ]
    }
   ],
   "source": [
    "pip install pygeohash"
   ]
  },
  {
   "cell_type": "code",
   "execution_count": 12,
   "id": "41503bf8",
   "metadata": {},
   "outputs": [],
   "source": [
    "import pygeohash as pgh\n",
    "def convert(geohash):\n",
    "    latitude,longitude = pgh.decode(geohash)\n",
    "    return(latitude,longitude)"
   ]
  },
  {
   "cell_type": "code",
   "execution_count": 3,
   "id": "125eae52",
   "metadata": {},
   "outputs": [],
   "source": [
    "import csv\n",
    "import pandas as pd"
   ]
  },
  {
   "cell_type": "code",
   "execution_count": 16,
   "id": "345f0e9c",
   "metadata": {},
   "outputs": [],
   "source": [
    "df=pd.read_csv('C:\\\\Users\\\\SOUMILI MUKHERJEE\\\\Desktop\\\\GEOHASH\\\\Book1.csv')"
   ]
  },
  {
   "cell_type": "code",
   "execution_count": 19,
   "id": "46d8fb15",
   "metadata": {},
   "outputs": [
    {
     "name": "stdout",
     "output_type": "stream",
     "text": [
      "      Geohash  Latitude  Longitude\n",
      "0   dqcrj7p34   39.2159   -76.7514\n",
      "1   dqcrj6vkw   39.2151   -76.7540\n",
      "2   dqcrn66vg   39.2126   -76.7136\n",
      "3   dqcj6kmv0   38.9158   -77.2370\n",
      "4   dqcj6qd0g   38.9275   -77.2420\n",
      "5   dqcjhw4rv   38.8820   -77.1427\n",
      "6   dqcj6t2dt   38.9209   -77.2330\n",
      "7   dqcj6sjsg   38.9144   -77.2262\n",
      "8   dqcj6tjtz   38.9201   -77.2260\n",
      "9   dqcj6eync   38.9134   -77.2256\n",
      "10  dqcj7c16k   38.8975   -77.1770\n",
      "11  dqcj6kmy9   38.9161   -77.2369\n",
      "12  dqcjhr0fe   38.8866   -77.1558\n",
      "13  dqcjqcubw   38.9013   -77.0403\n",
      "14  dqcjjxhgc   38.8868   -77.0955\n",
      "15  dqcj6kmez   38.9156   -77.2370\n",
      "16  dqcm2qd5q   38.9279   -76.9782\n",
      "17  dqcm2qd4u   38.9278   -76.9783\n",
      "18  dqcj6kmgb   38.9156   -77.2370\n",
      "19  dqcjhnzzs   38.8860   -77.1571\n",
      "20  dqcj847w4   38.9490   -77.3388\n",
      "21  dqcjhwzgz   38.8854   -77.1350\n",
      "22  dqcjhx0yj   38.8872   -77.1447\n",
      "23  dqcjhppdp   38.8865   -77.1573\n",
      "24  dqcjr9hfk   38.8975   -77.0074\n",
      "25  dqcj7mjcy   38.9194   -77.1928\n",
      "26  dqcjq9pbh   38.8971   -77.0473\n",
      "27  dqcjjqrpx   38.8833   -77.1031\n",
      "28  dqcj6kmxp   38.9162   -77.2370\n",
      "29  dqc5c7c2e   38.6486   -77.2870\n",
      "30  dqcm2njux   38.9254   -76.9840\n",
      "31  dqcj6mvsj   38.9239   -77.2371\n",
      "32  dqcjhw43w   38.8809   -77.1426\n",
      "33  dqcjqg6mf   38.9105   -77.0439\n",
      "34  dqcm8y13u   38.9688   -76.9573\n",
      "35  dqcj6v1nr   38.9202   -77.2212\n",
      "36  dqcj7e8vb   38.9118   -77.1889\n",
      "37  dqcm8vcx8   38.9684   -76.9571\n",
      "38  dqcjr1c8g   38.9014   -77.0339\n",
      "39  dqcj6kmy6   38.9160   -77.2369\n",
      "40  dqcj6smn9   38.9161   -77.2270\n",
      "41  dqcm2qd5f   38.9280   -76.9783\n",
      "42  dqcj6t25f   38.9211   -77.2338\n",
      "43  dqcjq9ttn   38.9007   -77.0503\n",
      "44  dqcm2qd5r   38.9279   -76.9781\n",
      "45  dqcjr6q7e   38.9046   -77.0164\n",
      "46  dqcjjxjh0   38.8868   -77.0952\n",
      "47  dqcj7c1bb   38.8972   -77.1765\n",
      "48  dqcj6kmu3   38.9157   -77.2369\n",
      "49  dqcj844xe   38.9478   -77.3402\n",
      "  Geohash  Latitude  Longitude\n",
      "dqcrj7p34   39.2159   -76.7514\n",
      "dqcrj6vkw   39.2151   -76.7540\n",
      "dqcrn66vg   39.2126   -76.7136\n",
      "dqcj6kmv0   38.9158   -77.2370\n",
      "dqcj6qd0g   38.9275   -77.2420\n",
      "dqcjhw4rv   38.8820   -77.1427\n",
      "dqcj6t2dt   38.9209   -77.2330\n",
      "dqcj6sjsg   38.9144   -77.2262\n",
      "dqcj6tjtz   38.9201   -77.2260\n",
      "dqcj6eync   38.9134   -77.2256\n",
      "dqcj7c16k   38.8975   -77.1770\n",
      "dqcj6kmy9   38.9161   -77.2369\n",
      "dqcjhr0fe   38.8866   -77.1558\n",
      "dqcjqcubw   38.9013   -77.0403\n",
      "dqcjjxhgc   38.8868   -77.0955\n",
      "dqcj6kmez   38.9156   -77.2370\n",
      "dqcm2qd5q   38.9279   -76.9782\n",
      "dqcm2qd4u   38.9278   -76.9783\n",
      "dqcj6kmgb   38.9156   -77.2370\n",
      "dqcjhnzzs   38.8860   -77.1571\n",
      "dqcj847w4   38.9490   -77.3388\n",
      "dqcjhwzgz   38.8854   -77.1350\n",
      "dqcjhx0yj   38.8872   -77.1447\n",
      "dqcjhppdp   38.8865   -77.1573\n",
      "dqcjr9hfk   38.8975   -77.0074\n",
      "dqcj7mjcy   38.9194   -77.1928\n",
      "dqcjq9pbh   38.8971   -77.0473\n",
      "dqcjjqrpx   38.8833   -77.1031\n",
      "dqcj6kmxp   38.9162   -77.2370\n",
      "dqc5c7c2e   38.6486   -77.2870\n",
      "dqcm2njux   38.9254   -76.9840\n",
      "dqcj6mvsj   38.9239   -77.2371\n",
      "dqcjhw43w   38.8809   -77.1426\n",
      "dqcjqg6mf   38.9105   -77.0439\n",
      "dqcm8y13u   38.9688   -76.9573\n",
      "dqcj6v1nr   38.9202   -77.2212\n",
      "dqcj7e8vb   38.9118   -77.1889\n",
      "dqcm8vcx8   38.9684   -76.9571\n",
      "dqcjr1c8g   38.9014   -77.0339\n",
      "dqcj6kmy6   38.9160   -77.2369\n",
      "dqcj6smn9   38.9161   -77.2270\n",
      "dqcm2qd5f   38.9280   -76.9783\n",
      "dqcj6t25f   38.9211   -77.2338\n",
      "dqcjq9ttn   38.9007   -77.0503\n",
      "dqcm2qd5r   38.9279   -76.9781\n",
      "dqcjr6q7e   38.9046   -77.0164\n",
      "dqcjjxjh0   38.8868   -77.0952\n",
      "dqcj7c1bb   38.8972   -77.1765\n",
      "dqcj6kmu3   38.9157   -77.2369\n",
      "dqcj844xe   38.9478   -77.3402\n"
     ]
    }
   ],
   "source": [
    "df[['Latitude', 'Longitude']] = df['Geohash'].apply(lambda x: pd.Series(convert(x)))\n",
    "#print(df[['Geohash', 'Latitude', 'Longitude']])\n",
    "print(df[['Geohash', 'Latitude', 'Longitude']].to_string(index=False))"
   ]
  }
 ],
 "metadata": {
  "kernelspec": {
   "display_name": "Python 3 (ipykernel)",
   "language": "python",
   "name": "python3"
  },
  "language_info": {
   "codemirror_mode": {
    "name": "ipython",
    "version": 3
   },
   "file_extension": ".py",
   "mimetype": "text/x-python",
   "name": "python",
   "nbconvert_exporter": "python",
   "pygments_lexer": "ipython3",
   "version": "3.9.12"
  }
 },
 "nbformat": 4,
 "nbformat_minor": 5
}
